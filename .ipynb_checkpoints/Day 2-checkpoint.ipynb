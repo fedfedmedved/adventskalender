{
 "cells": [
  {
   "cell_type": "code",
   "execution_count": 59,
   "id": "f98594b5",
   "metadata": {},
   "outputs": [],
   "source": [
    "import re\n",
    "import numpy as np"
   ]
  },
  {
   "cell_type": "code",
   "execution_count": 60,
   "id": "7568ac3e",
   "metadata": {},
   "outputs": [],
   "source": [
    "data = open('day2.txt').read().splitlines()"
   ]
  },
  {
   "cell_type": "markdown",
   "id": "a8dc8ea2",
   "metadata": {
    "scrolled": true
   },
   "source": [
    "type(data[0])"
   ]
  },
  {
   "cell_type": "markdown",
   "id": "78977841",
   "metadata": {},
   "source": [
    "re.findall('(?P<number>\\d*)(?P<colour> red)',data[0])"
   ]
  },
  {
   "cell_type": "markdown",
   "id": "d1f66907",
   "metadata": {},
   "source": [
    "make named group, only take the numbers, look at how it was done in week1 of the course"
   ]
  },
  {
   "cell_type": "markdown",
   "id": "f840e59f",
   "metadata": {},
   "source": [
    "red = [int(item.group('number')) for item in re.finditer('(?P<number>\\d*)(?P<colour> red)',data[0])]"
   ]
  },
  {
   "cell_type": "markdown",
   "id": "85b52f59",
   "metadata": {},
   "source": [
    "red=np.array(red)"
   ]
  },
  {
   "cell_type": "markdown",
   "id": "d7f18833",
   "metadata": {},
   "source": [
    "red"
   ]
  },
  {
   "cell_type": "markdown",
   "id": "18761306",
   "metadata": {},
   "source": [
    "red <= 12"
   ]
  },
  {
   "cell_type": "markdown",
   "id": "5f67c71a",
   "metadata": {},
   "source": [
    "np.product(red <= red_limit)"
   ]
  },
  {
   "cell_type": "markdown",
   "id": "038a7910",
   "metadata": {},
   "source": [
    "red[0]<=12"
   ]
  },
  {
   "cell_type": "code",
   "execution_count": 61,
   "id": "7c4a39e6",
   "metadata": {},
   "outputs": [],
   "source": [
    "red_limit = 12\n",
    "blue_limit = 14\n",
    "green_limit = 13"
   ]
  },
  {
   "cell_type": "markdown",
   "id": "939a22dc",
   "metadata": {},
   "source": [
    "can try to either write the code directly or use boolean masking to make the procedure more transparent"
   ]
  },
  {
   "cell_type": "markdown",
   "id": "1ba1b0cf",
   "metadata": {},
   "source": [
    "first the direct approach:"
   ]
  },
  {
   "cell_type": "code",
   "execution_count": 76,
   "id": "749a67db",
   "metadata": {},
   "outputs": [],
   "source": [
    "i=0\n",
    "total = 0\n",
    "power_sum = 0\n",
    "while i != len(data):\n",
    "    red = np.array([int(item.group('number')) for item in re.finditer('(?P<number>\\d*)(?P<colour> red)',data[i])])\n",
    "    green = np.array([int(item.group('number')) for item in re.finditer('(?P<number>\\d*)(?P<colour> green)',data[i])])\n",
    "    blue = np.array([int(item.group('number')) for item in re.finditer('(?P<number>\\d*)(?P<colour> blue)',data[i])])\n",
    "    i=i+1\n",
    "    valid_game = i * np.product(red <= red_limit) * np.product(blue <= blue_limit) * np.product(green <= green_limit)\n",
    "    total = total + valid_game\n",
    "    power = red.max() * green.max() * blue.max()\n",
    "    power_sum = power_sum + power\n",
    "    #print(valid_game)"
   ]
  },
  {
   "cell_type": "code",
   "execution_count": 77,
   "id": "c2b32e43",
   "metadata": {
    "scrolled": true
   },
   "outputs": [
    {
     "data": {
      "text/plain": [
       "2600"
      ]
     },
     "execution_count": 77,
     "metadata": {},
     "output_type": "execute_result"
    }
   ],
   "source": [
    "total"
   ]
  },
  {
   "cell_type": "code",
   "execution_count": 78,
   "id": "1e916d7f",
   "metadata": {},
   "outputs": [
    {
     "data": {
      "text/plain": [
       "86036"
      ]
     },
     "execution_count": 78,
     "metadata": {},
     "output_type": "execute_result"
    }
   ],
   "source": [
    "power_sum"
   ]
  }
 ],
 "metadata": {
  "kernelspec": {
   "display_name": "Python 3 (ipykernel)",
   "language": "python",
   "name": "python3"
  },
  "language_info": {
   "codemirror_mode": {
    "name": "ipython",
    "version": 3
   },
   "file_extension": ".py",
   "mimetype": "text/x-python",
   "name": "python",
   "nbconvert_exporter": "python",
   "pygments_lexer": "ipython3",
   "version": "3.9.5"
  }
 },
 "nbformat": 4,
 "nbformat_minor": 5
}
