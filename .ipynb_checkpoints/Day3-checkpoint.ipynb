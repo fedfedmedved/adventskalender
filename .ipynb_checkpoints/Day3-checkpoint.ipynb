{
 "cells": [
  {
   "cell_type": "code",
   "execution_count": 41,
   "id": "f1219717",
   "metadata": {},
   "outputs": [],
   "source": [
    "import re\n",
    "import numpy as np"
   ]
  },
  {
   "cell_type": "code",
   "execution_count": 2,
   "id": "9916e52d",
   "metadata": {},
   "outputs": [],
   "source": [
    "data = open('day3.txt').read().splitlines()"
   ]
  },
  {
   "cell_type": "code",
   "execution_count": 3,
   "id": "5ac2c477",
   "metadata": {},
   "outputs": [
    {
     "data": {
      "text/plain": [
       "['467..114..',\n",
       " '...*......',\n",
       " '..35..633.',\n",
       " '......#...',\n",
       " '617*......',\n",
       " '.....+.58.',\n",
       " '..592.....',\n",
       " '......755.',\n",
       " '...$.*....',\n",
       " '.664.598..']"
      ]
     },
     "execution_count": 3,
     "metadata": {},
     "output_type": "execute_result"
    }
   ],
   "source": [
    "data"
   ]
  },
  {
   "cell_type": "code",
   "execution_count": 121,
   "id": "829becf7",
   "metadata": {},
   "outputs": [
    {
     "data": {
      "text/plain": [
       "10"
      ]
     },
     "execution_count": 121,
     "metadata": {},
     "output_type": "execute_result"
    }
   ],
   "source": [
    "len(data)"
   ]
  },
  {
   "cell_type": "markdown",
   "id": "4650ce53",
   "metadata": {},
   "source": [
    "using fiditer i get match objects, which include what i match as well as spans. spans will be crucial for this task."
   ]
  },
  {
   "cell_type": "markdown",
   "id": "3b55840a",
   "metadata": {},
   "source": [
    "in my schematic two matched objects are adjacents if their lines are adjacent and if their spans are adjacent."
   ]
  },
  {
   "cell_type": "markdown",
   "id": "2d147083",
   "metadata": {},
   "source": [
    "if i wanted to do this elegantly, i would first finditer all symbols, then save their spans as a numpy array. i would then like to expand their spans by 1 in each direction. so, if i have a match at position (1,3) i would like to expand the range to a slice (0:3, 2:5). that would be very visual and enjoyable, but it looks like work."
   ]
  },
  {
   "cell_type": "code",
   "execution_count": 39,
   "id": "ff2dd65b",
   "metadata": {
    "scrolled": false
   },
   "outputs": [],
   "source": [
    "numbers = [match for match in re.finditer('\\d+',data[0])] #creates a list of match objects"
   ]
  },
  {
   "cell_type": "code",
   "execution_count": 38,
   "id": "784b9e3a",
   "metadata": {},
   "outputs": [
    {
     "data": {
      "text/plain": [
       "[<re.Match object; span=(0, 3), match='467'>,\n",
       " <re.Match object; span=(5, 8), match='114'>]"
      ]
     },
     "execution_count": 38,
     "metadata": {},
     "output_type": "execute_result"
    }
   ],
   "source": [
    "numbers"
   ]
  },
  {
   "cell_type": "code",
   "execution_count": 50,
   "id": "acc2f026",
   "metadata": {},
   "outputs": [],
   "source": [
    "numbers = [[match for match in re.finditer('\\d+',line)] for line in data]"
   ]
  },
  {
   "cell_type": "code",
   "execution_count": 51,
   "id": "c5a51715",
   "metadata": {},
   "outputs": [
    {
     "data": {
      "text/plain": [
       "[[<re.Match object; span=(0, 3), match='467'>,\n",
       "  <re.Match object; span=(5, 8), match='114'>],\n",
       " [],\n",
       " [<re.Match object; span=(2, 4), match='35'>,\n",
       "  <re.Match object; span=(6, 9), match='633'>],\n",
       " [],\n",
       " [<re.Match object; span=(0, 3), match='617'>],\n",
       " [<re.Match object; span=(7, 9), match='58'>],\n",
       " [<re.Match object; span=(2, 5), match='592'>],\n",
       " [<re.Match object; span=(6, 9), match='755'>],\n",
       " [],\n",
       " [<re.Match object; span=(1, 4), match='664'>,\n",
       "  <re.Match object; span=(5, 8), match='598'>]]"
      ]
     },
     "execution_count": 51,
     "metadata": {},
     "output_type": "execute_result"
    }
   ],
   "source": [
    "numbers"
   ]
  },
  {
   "cell_type": "code",
   "execution_count": 36,
   "id": "4c37c557",
   "metadata": {},
   "outputs": [
    {
     "name": "stdout",
     "output_type": "stream",
     "text": [
      "(0, 3)\n",
      "(5, 8)\n"
     ]
    }
   ],
   "source": [
    "for i in numbers:\n",
    "    print(i.span())"
   ]
  },
  {
   "cell_type": "code",
   "execution_count": 55,
   "id": "44be3e71",
   "metadata": {},
   "outputs": [],
   "source": [
    "symbols = [[match for match in re.finditer('[^.|\\d]',line)] for line in data]"
   ]
  },
  {
   "cell_type": "code",
   "execution_count": 56,
   "id": "d4790326",
   "metadata": {},
   "outputs": [
    {
     "data": {
      "text/plain": [
       "[[],\n",
       " [<re.Match object; span=(3, 4), match='*'>],\n",
       " [],\n",
       " [<re.Match object; span=(6, 7), match='#'>],\n",
       " [<re.Match object; span=(3, 4), match='*'>],\n",
       " [<re.Match object; span=(5, 6), match='+'>],\n",
       " [],\n",
       " [],\n",
       " [<re.Match object; span=(3, 4), match='$'>,\n",
       "  <re.Match object; span=(5, 6), match='*'>],\n",
       " []]"
      ]
     },
     "execution_count": 56,
     "metadata": {},
     "output_type": "execute_result"
    }
   ],
   "source": [
    "symbols"
   ]
  },
  {
   "cell_type": "code",
   "execution_count": 124,
   "id": "a1b1f89d",
   "metadata": {},
   "outputs": [
    {
     "data": {
      "text/plain": [
       "True"
      ]
     },
     "execution_count": 124,
     "metadata": {},
     "output_type": "execute_result"
    }
   ],
   "source": [
    "len(symbols) == len(numbers) == len(data)"
   ]
  },
  {
   "cell_type": "code",
   "execution_count": 169,
   "id": "d1907464",
   "metadata": {
    "scrolled": true
   },
   "outputs": [
    {
     "data": {
      "text/plain": [
       "<re.Match object; span=(5, 8), match='114'>"
      ]
     },
     "execution_count": 169,
     "metadata": {},
     "output_type": "execute_result"
    }
   ],
   "source": [
    "numbers[0][1]"
   ]
  },
  {
   "cell_type": "code",
   "execution_count": 170,
   "id": "bb73adaa",
   "metadata": {},
   "outputs": [
    {
     "data": {
      "text/plain": [
       "range(4, 9)"
      ]
     },
     "execution_count": 170,
     "metadata": {},
     "output_type": "execute_result"
    }
   ],
   "source": [
    "my_span = numbers[0][1].span()\n",
    "my_span = range(my_span[0]-1,my_span[1]+1) #expanded the range by 1 to include adjacency\n",
    "my_span"
   ]
  },
  {
   "cell_type": "code",
   "execution_count": 149,
   "id": "cf2354dc",
   "metadata": {},
   "outputs": [
    {
     "data": {
      "text/plain": [
       "<re.Match object; span=(3, 4), match='*'>"
      ]
     },
     "execution_count": 149,
     "metadata": {},
     "output_type": "execute_result"
    }
   ],
   "source": [
    "symbols[1][0]"
   ]
  },
  {
   "cell_type": "code",
   "execution_count": 150,
   "id": "39486834",
   "metadata": {
    "scrolled": true
   },
   "outputs": [
    {
     "data": {
      "text/plain": [
       "3"
      ]
     },
     "execution_count": 150,
     "metadata": {},
     "output_type": "execute_result"
    }
   ],
   "source": [
    "position = symbols[1][0].span()[0]\n",
    "position"
   ]
  },
  {
   "cell_type": "code",
   "execution_count": 151,
   "id": "33b9e61a",
   "metadata": {},
   "outputs": [
    {
     "data": {
      "text/plain": [
       "True"
      ]
     },
     "execution_count": 151,
     "metadata": {},
     "output_type": "execute_result"
    }
   ],
   "source": [
    "position in my_span"
   ]
  },
  {
   "cell_type": "code",
   "execution_count": 174,
   "id": "be953945",
   "metadata": {},
   "outputs": [],
   "source": [
    "for k in range(max(0, 0-1), min(0+2, len(symbols))): #check lines above and below a number\n",
    "            for s in symbols[k]:\n",
    "                position = s.span()[0]\n",
    "                if (position in my_span): adjacency = True"
   ]
  },
  {
   "cell_type": "code",
   "execution_count": 175,
   "id": "fffdadbc",
   "metadata": {},
   "outputs": [
    {
     "data": {
      "text/plain": [
       "False"
      ]
     },
     "execution_count": 175,
     "metadata": {},
     "output_type": "execute_result"
    }
   ],
   "source": [
    "adjacency"
   ]
  },
  {
   "cell_type": "code",
   "execution_count": 163,
   "id": "e7f79dda",
   "metadata": {},
   "outputs": [],
   "source": [
    "parts = []"
   ]
  },
  {
   "cell_type": "code",
   "execution_count": 164,
   "id": "3eff3655",
   "metadata": {},
   "outputs": [],
   "source": [
    "parts.append(numbers[0][0])"
   ]
  },
  {
   "cell_type": "code",
   "execution_count": 165,
   "id": "3e350421",
   "metadata": {},
   "outputs": [
    {
     "data": {
      "text/plain": [
       "[<re.Match object; span=(0, 3), match='467'>]"
      ]
     },
     "execution_count": 165,
     "metadata": {},
     "output_type": "execute_result"
    }
   ],
   "source": [
    "parts"
   ]
  },
  {
   "cell_type": "markdown",
   "id": "351bf5b5",
   "metadata": {},
   "source": [
    "now that i have a good test for adjacency i just have to make sure to check all possible adjacencies between the lines, also for several symbols in one line"
   ]
  },
  {
   "cell_type": "markdown",
   "id": "169369c0",
   "metadata": {},
   "source": [
    "first let's check whether a given number has an adjacent symbol:"
   ]
  },
  {
   "cell_type": "markdown",
   "id": "39d6df87",
   "metadata": {},
   "source": [
    "need to not forget to treat empty lists correctly"
   ]
  },
  {
   "cell_type": "code",
   "execution_count": 116,
   "id": "aa84d52e",
   "metadata": {},
   "outputs": [
    {
     "ename": "NameError",
     "evalue": "name 'empty' is not defined",
     "output_type": "error",
     "traceback": [
      "\u001b[0;31m---------------------------------------------------------------------------\u001b[0m",
      "\u001b[0;31mNameError\u001b[0m                                 Traceback (most recent call last)",
      "Cell \u001b[0;32mIn[116], line 1\u001b[0m\n\u001b[0;32m----> 1\u001b[0m numbers[\u001b[38;5;241m3\u001b[39m] \u001b[38;5;129;01mis\u001b[39;00m \u001b[43mempty\u001b[49m\n",
      "\u001b[0;31mNameError\u001b[0m: name 'empty' is not defined"
     ]
    }
   ],
   "source": [
    "numbers[3]"
   ]
  },
  {
   "cell_type": "code",
   "execution_count": 127,
   "id": "93250ab7",
   "metadata": {},
   "outputs": [],
   "source": [
    "parts=[]"
   ]
  },
  {
   "cell_type": "code",
   "execution_count": 128,
   "id": "58b50b4d",
   "metadata": {},
   "outputs": [],
   "source": [
    "parts.append([])"
   ]
  },
  {
   "cell_type": "code",
   "execution_count": 130,
   "id": "fd22177f",
   "metadata": {},
   "outputs": [
    {
     "data": {
      "text/plain": [
       "[]"
      ]
     },
     "execution_count": 130,
     "metadata": {},
     "output_type": "execute_result"
    }
   ],
   "source": [
    "parts[0]"
   ]
  },
  {
   "cell_type": "code",
   "execution_count": 173,
   "id": "ec739043",
   "metadata": {},
   "outputs": [],
   "source": [
    "adjacency = False"
   ]
  },
  {
   "cell_type": "code",
   "execution_count": 162,
   "id": "da5c8797",
   "metadata": {},
   "outputs": [
    {
     "ename": "IndexError",
     "evalue": "list index out of range",
     "output_type": "error",
     "traceback": [
      "\u001b[0;31m---------------------------------------------------------------------------\u001b[0m",
      "\u001b[0;31mIndexError\u001b[0m                                Traceback (most recent call last)",
      "Cell \u001b[0;32mIn[162], line 14\u001b[0m\n\u001b[1;32m     12\u001b[0m         position \u001b[38;5;241m=\u001b[39m s\u001b[38;5;241m.\u001b[39mspan()[\u001b[38;5;241m0\u001b[39m]\n\u001b[1;32m     13\u001b[0m         \u001b[38;5;28;01mif\u001b[39;00m (position \u001b[38;5;129;01min\u001b[39;00m my_span): adjacency \u001b[38;5;241m=\u001b[39m \u001b[38;5;28;01mTrue\u001b[39;00m\n\u001b[0;32m---> 14\u001b[0m \u001b[38;5;28;01mif\u001b[39;00m (adjacency \u001b[38;5;241m==\u001b[39m \u001b[38;5;28;01mTrue\u001b[39;00m): parts[i]\u001b[38;5;241m.\u001b[39mappend(m)\n\u001b[1;32m     15\u001b[0m i \u001b[38;5;241m=\u001b[39m i\u001b[38;5;241m+\u001b[39m\u001b[38;5;241m1\u001b[39m\n",
      "\u001b[0;31mIndexError\u001b[0m: list index out of range"
     ]
    }
   ],
   "source": [
    "adjacency = False\n",
    "parts=[]\n",
    "i=0 #is my line indicator\n",
    "while i !=len(data):\n",
    "    parts.append([])\n",
    "    for m in numbers[i]:\n",
    "        adjacency = False\n",
    "        my_span = m.span()\n",
    "        my_span = range(my_span[0]-1,my_span[1]) #expanded the range by 1 to include left-adjacency\n",
    "        for k in range(max(0, i-1), min(i+2, len(symbols))): #check lines above and below a number\n",
    "            for s in symbols[k]:\n",
    "                position = s.span()[0]\n",
    "                if (position in my_span): adjacency = True\n",
    "        if (adjacency == True): parts[i].append(m)\n",
    "        i = i+1"
   ]
  },
  {
   "cell_type": "code",
   "execution_count": null,
   "id": "77b2cc4d",
   "metadata": {},
   "outputs": [],
   "source": [
    "parts"
   ]
  },
  {
   "cell_type": "code",
   "execution_count": null,
   "id": "afaafd54",
   "metadata": {},
   "outputs": [],
   "source": []
  }
 ],
 "metadata": {
  "kernelspec": {
   "display_name": "Python 3 (ipykernel)",
   "language": "python",
   "name": "python3"
  },
  "language_info": {
   "codemirror_mode": {
    "name": "ipython",
    "version": 3
   },
   "file_extension": ".py",
   "mimetype": "text/x-python",
   "name": "python",
   "nbconvert_exporter": "python",
   "pygments_lexer": "ipython3",
   "version": "3.9.5"
  }
 },
 "nbformat": 4,
 "nbformat_minor": 5
}
